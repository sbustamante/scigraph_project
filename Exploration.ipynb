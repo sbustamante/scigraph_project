{
 "cells": [
  {
   "cell_type": "markdown",
   "metadata": {},
   "source": [
    "# Content"
   ]
  },
  {
   "cell_type": "code",
   "execution_count": 187,
   "metadata": {},
   "outputs": [
    {
     "data": {
      "text/html": [
       "<script>\n",
       "code_show=true; \n",
       "function code_toggle() {\n",
       " if (code_show){\n",
       " $('div.input').hide();\n",
       " } else {\n",
       " $('div.input').show();\n",
       " }\n",
       " code_show = !code_show\n",
       "} \n",
       "$( document ).ready(code_toggle);\n",
       "</script>\n",
       "<form action=\"javascript:code_toggle()\"><input type=\"submit\" value=\"Click here to toggle on/off the raw code.\"></form>"
      ],
      "text/plain": [
       "<IPython.core.display.HTML object>"
      ]
     },
     "execution_count": 187,
     "metadata": {},
     "output_type": "execute_result"
    }
   ],
   "source": [
    "HTML('''<script>\n",
    "code_show=true; \n",
    "function code_toggle() {\n",
    " if (code_show){\n",
    " $('div.input').hide();\n",
    " } else {\n",
    " $('div.input').show();\n",
    " }\n",
    " code_show = !code_show\n",
    "} \n",
    "$( document ).ready(code_toggle);\n",
    "</script>\n",
    "<form action=\"javascript:code_toggle()\"><input type=\"submit\" value=\"Click here to toggle on/off the raw code.\"></form>''')"
   ]
  },
  {
   "cell_type": "markdown",
   "metadata": {},
   "source": [
    "- [Journals](#Journals)\n",
    "    - [Loading data](#Loading-data)\n",
    "    - [Evolution of WoS impact factor for different disciplines](#Evolution-of-WoS-impact-factor-for-different-disciplines)\n",
    "    - [Fields](#Fields)"
   ]
  },
  {
   "cell_type": "code",
   "execution_count": 573,
   "metadata": {},
   "outputs": [],
   "source": [
    "from IPython.display import HTML\n",
    "from itertools import groupby\n",
    "import collections\n",
    "\n",
    "import json_lines as jl\n",
    "import json\n",
    "\n",
    "import pandas as pd\n",
    "from pandas.io.json import json_normalize\n",
    "\n",
    "import matplotlib.pylab as plt\n",
    "import numpy as np\n",
    "\n",
    "%matplotlib inline\n",
    "\n",
    "\n",
    "def nonull( data ):\n",
    "    '''\n",
    "    nonull:\n",
    "        returns data column with no null entries\n",
    "    '''\n",
    "    return data[ data.isnull()==False ]"
   ]
  },
  {
   "cell_type": "markdown",
   "metadata": {},
   "source": [
    "# Journals"
   ]
  },
  {
   "cell_type": "markdown",
   "metadata": {},
   "source": [
    "## Loading data"
   ]
  },
  {
   "cell_type": "markdown",
   "metadata": {},
   "source": [
    "Journals are imported in dataframe format. Two additional dataframes are created, one with content rating information, one with general information about the journal.\n",
    "\n",
    "- Some contentRating fields have duplicated instances of the WoS IF. (**solved**)\n",
    "- A numerical journal id (*idNum*) is added to the two new dataframes."
   ]
  },
  {
   "cell_type": "code",
   "execution_count": 477,
   "metadata": {},
   "outputs": [],
   "source": [
    "data_json = []\n",
    "with open('./data/journals/journals_1.jsonl', 'r') as jsonl_file:\n",
    "    for line in jsonl_file:\n",
    "        data_json.append(json.loads(line))\n",
    "\n",
    "#Creating main dataframe with journals data\n",
    "journals = pd.DataFrame(data_json)\n",
    "idNum = np.arange(len(journals))\n",
    "\n",
    "#Filtering journals with contentRating\n",
    "mask_nr = journals.contentRating.isnull()==False\n",
    "#Creating new dataframe with journals content rating\n",
    "journals_rating = pd.DataFrame(json_normalize(np.array(data_json)[mask_nr],\n",
    "                                              record_path=['contentRating'],\n",
    "                                              meta=['id'], errors = 'ignore' ))\n",
    "journals_rating = journals_rating.drop_duplicates()\n",
    "repeats = [len(list(group)) for key, group in groupby(journals_rating['id'])]\n",
    "journals_rating['idNum'] = np.repeat(idNum[mask_nr], repeats)\n",
    "mask_nrr = np.repeat(idNum[mask_nr], repeats)\n",
    "mask_wos = journals_rating.author == 'impact_factor_wos'\n",
    "\n",
    "#Filtering journals with about field\n",
    "mask_ab = journals.about.isnull()==False\n",
    "#Creating new dataframe with information of journals (about)\n",
    "journals_about = pd.DataFrame(json_normalize(np.array(data_json)[mask_ab],\n",
    "                                              record_path=['about'],\n",
    "                                              meta=['id',], \n",
    "                                              record_prefix='category',\n",
    "                                              meta_prefix='',\n",
    "                                              sep=\"_\", errors = 'ignore' ))\n",
    "repeats = [len(list(group)) for key, group in groupby(journals_about['id'])]\n",
    "journals_about['idNum'] = np.repeat(idNum[mask_ab], repeats)\n",
    "mask_abr = np.repeat(idNum[mask_ab], repeats)"
   ]
  },
  {
   "cell_type": "markdown",
   "metadata": {},
   "source": [
    "### Using impact factor as a metric of success"
   ]
  },
  {
   "cell_type": "markdown",
   "metadata": {},
   "source": [
    "When choosing a suitable journal to publish my research, I, as an author, was most interested in its impact factor (often the WoS IF). As this is the case of most scientist I know of, I will therefore use it as the [metric of success of a journal](https://scholarlykitchen.sspnet.org/2014/05/15/what-researchers-value-from-publishers-canadian-survey/).\n",
    "\n",
    "In the following histogram, I show the year of foundation for journals with content rating (at least one entry), and without it. Journals without content rating tend to be much newer as they have not collected enough data to be rated. The most recently founded journals might be potential candidates for growth strategies."
   ]
  },
  {
   "cell_type": "code",
   "execution_count": 169,
   "metadata": {},
   "outputs": [
    {
     "data": {
      "image/png": "[encoded data removed]",
      "text/plain": [
       "<Figure size 720x432 with 1 Axes>"
      ]
     },
     "metadata": {
      "needs_background": "light"
     },
     "output_type": "display_data"
    }
   ],
   "source": [
    "#Plotting start year vs count for journals with and without content rating\n",
    "min_year = np.min(np.array(nonull(journals.startYear)).astype(int))\n",
    "max_year = np.max(np.array(nonull(journals.startYear)).astype(int))\n",
    "start_year_wos = np.min(np.array(nonull(journals_rating.dateCreated[mask_wos])).astype(int))\n",
    "last_year_wos = np.max(np.array(nonull(journals_rating.dateCreated[mask_wos])).astype(int))\n",
    "bins = max_year - min_year\n",
    "\n",
    "plt.figure( figsize = (10,6) )\n",
    "dm = plt.hist(np.array(nonull(journals.startYear[mask_nr])).astype(int), \n",
    "              bins=bins, range=(min_year,max_year), alpha=0.5, label='with content rating')\n",
    "dm = plt.hist( np.array(nonull(journals.startYear[mask_nr==False])).astype(int), \n",
    "              bins=bins, range=(min_year,max_year), alpha=0.5, label='without content rating')\n",
    "\n",
    "plt.xlabel( 'Start Year', fontsize = 15 )\n",
    "plt.xlim( min_year, max_year )\n",
    "plt.xticks( fontsize = 15 )\n",
    "plt.ylabel( 'Number of Journals', fontsize = 15 )\n",
    "plt.yticks( fontsize = 15 )\n",
    "plt.ylim( 0, 90 )\n",
    "\n",
    "plt.vlines( start_year_wos, 0, 90, ls='--' )\n",
    "plt.text( start_year_wos-6, 52, 'start year IF WoS', fontsize=15, rotation=90 )\n",
    "plt.legend( loc='upper left', fontsize = 15 )\n",
    "plt.show()"
   ]
  },
  {
   "cell_type": "markdown",
   "metadata": {},
   "source": [
    "## Evolution of WoS impact factor for different disciplines"
   ]
  },
  {
   "cell_type": "markdown",
   "metadata": {},
   "source": [
    "A new dataframe is created for all disciplines and contains the time evolution of the mean and the top 20\\% WoS impact factors of the corresponding journals."
   ]
  },
  {
   "cell_type": "code",
   "execution_count": 526,
   "metadata": {},
   "outputs": [],
   "source": [
    "def IF_WoS_props( category, year=2017, percentiles=[50,80], \n",
    "                  journals_about=journals_about, journals_rating=journals_rating, complete_dist=False):\n",
    "    \"\"\"\n",
    "    IF_WoS_props: \n",
    "        returns percentiles of WoS impact factor for a given discipline and year, number of ranked journals\n",
    "        and total number of journals\n",
    "    Parameters\n",
    "    ----------\n",
    "    category : string\n",
    "    year: int\n",
    "    percentiles: array_like\n",
    "    journals_about: DataFrame\n",
    "        Dataframe with general information of the journals.\n",
    "    journals_rating: DataFrame\n",
    "        Dataframe with content rating information.\n",
    "    complete_dist: boolean\n",
    "        Complete distribution is returned if True\n",
    "    \"\"\"\n",
    "    mask_disc = journals_about.categoryname==category\n",
    "\n",
    "    mask_journal_disc = np.in1d(journals_rating.idNum[mask_wos], journals_about.idNum[mask_disc])\n",
    "    mask_year = journals_rating.dateCreated[mask_wos][mask_journal_disc].astype(int) == year\n",
    "    \n",
    "    start_years = np.array(journals.startYear[np.in1d(idNum, journals_about.idNum[mask_disc])]).astype(float)\n",
    "    n_journals = np.sum(start_years[np.isnan(start_years)==False]<year)+np.sum(np.isnan(start_years))\n",
    "    \n",
    "    IF_WoS = np.array(nonull(journals_rating.ratingValue[mask_wos][mask_journal_disc][mask_year])).astype(float)\n",
    "    if complete_dist:\n",
    "        return IF_WoS\n",
    "    if np.sum(mask_year) != 0:\n",
    "        return np.append(np.percentile(IF_WoS,percentiles), [len(IF_WoS), np.max([n_journals,len(IF_WoS)])])\n",
    "    else:\n",
    "        return np.append(np.zeros( len(percentiles)+1 ), n_journals)"
   ]
  },
  {
   "cell_type": "code",
   "execution_count": 527,
   "metadata": {},
   "outputs": [],
   "source": [
    "#Discipline dataframe\n",
    "disciplines = pd.DataFrame(list(set(journals_about.categoryname.copy()))[1:], columns=['categoryname'])\n",
    "tmp = np.zeros( len(disciplines) )\n",
    "for year in np.arange(start_year_wos,last_year_wos+1):\n",
    "    disciplines[\"median_%d\"%(year)] = tmp\n",
    "    disciplines[\"p80_%d\"%(year)] = tmp\n",
    "    disciplines[\"ranked_journals_%d\"%(year)] = tmp\n",
    "    disciplines[\"journals_%d\"%(year)] = tmp\n",
    "    \n",
    "for i_cat, categoryname in enumerate(disciplines.categoryname):\n",
    "    for year in np.arange(start_year_wos,last_year_wos+1):\n",
    "        median, p80, nrjournals, njournals = IF_WoS_props( categoryname, year=year )\n",
    "        disciplines.at[i_cat,'median_%d'%(year)] = median\n",
    "        disciplines.at[i_cat,'p80_%d'%(year)] = p80\n",
    "        disciplines.at[i_cat,'ranked_journals_%d'%(year)] = nrjournals\n",
    "        disciplines.at[i_cat,'journals_%d'%(year)] = njournals\n",
    "\n",
    "#Saving as pickle\n",
    "disciplines.to_pickle('./data/journals/disciplines.pkl')"
   ]
  },
  {
   "cell_type": "code",
   "execution_count": 535,
   "metadata": {},
   "outputs": [],
   "source": [
    "#Loading as pickle if already computed\n",
    "disciplines = pd.read_pickle('./data/journals/disciplines.pkl')\n",
    "\n",
    "#Saving category names ordered according to string lenght, along with numer of journals in 2017\n",
    "np.savetxt('./data/journals/CategoriesNames.txt',\n",
    "           np.transpose([disciplines['categoryname'][np.argsort(np.vectorize(len)(disciplines['categoryname']))], \n",
    "                         disciplines['journals_2017'][np.argsort(np.vectorize(len)(disciplines['categoryname']))]]), \n",
    "           fmt=\"%s\\t %d\")\n",
    "\n",
    "#Arrays with medians, p80 and journals to access data\n",
    "years_disc = np.arange(1990, 2018)\n",
    "medians_disc = ['median_%d'%year for year in years_disc]\n",
    "p80_disc = ['p80_%d'%year for year in years_disc]\n",
    "ranked_journals_disc = ['ranked_journals_%d'%year for year in years_disc]\n",
    "journals_disc = ['journals_%d'%year for year in years_disc]\n",
    "\n",
    "#Filtering out categories with no indexed journals\n",
    "#disciplines = disciplines[np.sum(disciplines[journals_disc],axis=1)!=0]\n",
    "\n",
    "#Number of disciplines with rated journals \n",
    "n_disc = len(disciplines)\n",
    "\n",
    "#Dictionary of categoryname to index\n",
    "index_disc = dict(zip(disciplines.categoryname, np.arange(n_disc)))"
   ]
  },
  {
   "cell_type": "code",
   "execution_count": 533,
   "metadata": {},
   "outputs": [
    {
     "data": {
      "text/html": [
       "<div>\n",
       "<style scoped>\n",
       "    .dataframe tbody tr th:only-of-type {\n",
       "        vertical-align: middle;\n",
       "    }\n",
       "\n",
       "    .dataframe tbody tr th {\n",
       "        vertical-align: top;\n",
       "    }\n",
       "\n",
       "    .dataframe thead th {\n",
       "        text-align: right;\n",
       "    }\n",
       "</style>\n",
       "<table border=\"1\" class=\"dataframe\">\n",
       "  <thead>\n",
       "    <tr style=\"text-align: right;\">\n",
       "      <th></th>\n",
       "      <th>categoryname</th>\n",
       "      <th>median_2016</th>\n",
       "      <th>p80_2016</th>\n",
       "      <th>ranked_journals_2016</th>\n",
       "      <th>journals_2016</th>\n",
       "      <th>median_2017</th>\n",
       "      <th>p80_2017</th>\n",
       "      <th>ranked_journals_2017</th>\n",
       "      <th>journals_2017</th>\n",
       "    </tr>\n",
       "  </thead>\n",
       "  <tbody>\n",
       "    <tr>\n",
       "      <th>0</th>\n",
       "      <td>Plasma Physics</td>\n",
       "      <td>6.6565</td>\n",
       "      <td>10.1356</td>\n",
       "      <td>2.0</td>\n",
       "      <td>3.0</td>\n",
       "      <td>6.7760</td>\n",
       "      <td>10.4102</td>\n",
       "      <td>2.0</td>\n",
       "      <td>3.0</td>\n",
       "    </tr>\n",
       "    <tr>\n",
       "      <th>1</th>\n",
       "      <td>Oceanography</td>\n",
       "      <td>1.3470</td>\n",
       "      <td>2.4100</td>\n",
       "      <td>19.0</td>\n",
       "      <td>24.0</td>\n",
       "      <td>1.4010</td>\n",
       "      <td>2.4778</td>\n",
       "      <td>19.0</td>\n",
       "      <td>24.0</td>\n",
       "    </tr>\n",
       "    <tr>\n",
       "      <th>2</th>\n",
       "      <td>History of Mathematical Sciences</td>\n",
       "      <td>0.5175</td>\n",
       "      <td>0.6432</td>\n",
       "      <td>2.0</td>\n",
       "      <td>8.0</td>\n",
       "      <td>0.6580</td>\n",
       "      <td>0.7030</td>\n",
       "      <td>2.0</td>\n",
       "      <td>8.0</td>\n",
       "    </tr>\n",
       "    <tr>\n",
       "      <th>3</th>\n",
       "      <td>Robotics and Automation</td>\n",
       "      <td>1.5880</td>\n",
       "      <td>2.2588</td>\n",
       "      <td>3.0</td>\n",
       "      <td>12.0</td>\n",
       "      <td>1.4230</td>\n",
       "      <td>1.9156</td>\n",
       "      <td>3.0</td>\n",
       "      <td>13.0</td>\n",
       "    </tr>\n",
       "    <tr>\n",
       "      <th>4</th>\n",
       "      <td>Nuclear Chemistry</td>\n",
       "      <td>0.6675</td>\n",
       "      <td>1.0362</td>\n",
       "      <td>2.0</td>\n",
       "      <td>7.0</td>\n",
       "      <td>0.7345</td>\n",
       "      <td>1.0024</td>\n",
       "      <td>2.0</td>\n",
       "      <td>8.0</td>\n",
       "    </tr>\n",
       "    <tr>\n",
       "      <th>5</th>\n",
       "      <td>Geriatric Care</td>\n",
       "      <td>0.0000</td>\n",
       "      <td>0.0000</td>\n",
       "      <td>0.0</td>\n",
       "      <td>1.0</td>\n",
       "      <td>0.0000</td>\n",
       "      <td>0.0000</td>\n",
       "      <td>0.0</td>\n",
       "      <td>1.0</td>\n",
       "    </tr>\n",
       "    <tr>\n",
       "      <th>6</th>\n",
       "      <td>Biological and Medical Physics, Biophysics</td>\n",
       "      <td>1.4720</td>\n",
       "      <td>2.3980</td>\n",
       "      <td>21.0</td>\n",
       "      <td>38.0</td>\n",
       "      <td>1.8020</td>\n",
       "      <td>2.4350</td>\n",
       "      <td>21.0</td>\n",
       "      <td>38.0</td>\n",
       "    </tr>\n",
       "    <tr>\n",
       "      <th>7</th>\n",
       "      <td>Atoms and Molecules in Strong Fields, Laser Ma...</td>\n",
       "      <td>0.9870</td>\n",
       "      <td>1.0608</td>\n",
       "      <td>2.0</td>\n",
       "      <td>2.0</td>\n",
       "      <td>0.9495</td>\n",
       "      <td>1.0182</td>\n",
       "      <td>2.0</td>\n",
       "      <td>2.0</td>\n",
       "    </tr>\n",
       "    <tr>\n",
       "      <th>8</th>\n",
       "      <td>Imaging / Radiology</td>\n",
       "      <td>1.8185</td>\n",
       "      <td>2.4368</td>\n",
       "      <td>30.0</td>\n",
       "      <td>69.0</td>\n",
       "      <td>1.8965</td>\n",
       "      <td>2.8928</td>\n",
       "      <td>30.0</td>\n",
       "      <td>71.0</td>\n",
       "    </tr>\n",
       "    <tr>\n",
       "      <th>9</th>\n",
       "      <td>Syntax</td>\n",
       "      <td>0.5980</td>\n",
       "      <td>0.8710</td>\n",
       "      <td>2.0</td>\n",
       "      <td>4.0</td>\n",
       "      <td>0.8825</td>\n",
       "      <td>0.9068</td>\n",
       "      <td>2.0</td>\n",
       "      <td>4.0</td>\n",
       "    </tr>\n",
       "    <tr>\n",
       "      <th>10</th>\n",
       "      <td>Structural Anthropology</td>\n",
       "      <td>0.0000</td>\n",
       "      <td>0.0000</td>\n",
       "      <td>0.0</td>\n",
       "      <td>0.0</td>\n",
       "      <td>0.0000</td>\n",
       "      <td>0.0000</td>\n",
       "      <td>0.0</td>\n",
       "      <td>0.0</td>\n",
       "    </tr>\n",
       "    <tr>\n",
       "      <th>11</th>\n",
       "      <td>Mycology</td>\n",
       "      <td>1.8830</td>\n",
       "      <td>6.9724</td>\n",
       "      <td>4.0</td>\n",
       "      <td>5.0</td>\n",
       "      <td>2.3195</td>\n",
       "      <td>7.3286</td>\n",
       "      <td>4.0</td>\n",
       "      <td>5.0</td>\n",
       "    </tr>\n",
       "    <tr>\n",
       "      <th>12</th>\n",
       "      <td>Area Studies</td>\n",
       "      <td>1.3020</td>\n",
       "      <td>1.3020</td>\n",
       "      <td>1.0</td>\n",
       "      <td>1.0</td>\n",
       "      <td>1.2500</td>\n",
       "      <td>1.2500</td>\n",
       "      <td>1.0</td>\n",
       "      <td>1.0</td>\n",
       "    </tr>\n",
       "    <tr>\n",
       "      <th>13</th>\n",
       "      <td>Characterization and Evaluation of Materials</td>\n",
       "      <td>1.4250</td>\n",
       "      <td>2.0198</td>\n",
       "      <td>57.0</td>\n",
       "      <td>90.0</td>\n",
       "      <td>1.4950</td>\n",
       "      <td>2.1558</td>\n",
       "      <td>58.0</td>\n",
       "      <td>90.0</td>\n",
       "    </tr>\n",
       "    <tr>\n",
       "      <th>14</th>\n",
       "      <td>Consulting, Supervision and Coaching</td>\n",
       "      <td>0.0000</td>\n",
       "      <td>0.0000</td>\n",
       "      <td>0.0</td>\n",
       "      <td>3.0</td>\n",
       "      <td>0.0000</td>\n",
       "      <td>0.0000</td>\n",
       "      <td>0.0</td>\n",
       "      <td>3.0</td>\n",
       "    </tr>\n",
       "    <tr>\n",
       "      <th>15</th>\n",
       "      <td>Learning and Instruction</td>\n",
       "      <td>1.4400</td>\n",
       "      <td>2.8390</td>\n",
       "      <td>9.0</td>\n",
       "      <td>21.0</td>\n",
       "      <td>1.5170</td>\n",
       "      <td>3.2730</td>\n",
       "      <td>11.0</td>\n",
       "      <td>21.0</td>\n",
       "    </tr>\n",
       "    <tr>\n",
       "      <th>16</th>\n",
       "      <td>Solid Mechanics</td>\n",
       "      <td>1.8510</td>\n",
       "      <td>2.2014</td>\n",
       "      <td>15.0</td>\n",
       "      <td>23.0</td>\n",
       "      <td>1.8960</td>\n",
       "      <td>2.3272</td>\n",
       "      <td>15.0</td>\n",
       "      <td>23.0</td>\n",
       "    </tr>\n",
       "    <tr>\n",
       "      <th>17</th>\n",
       "      <td>Cytogenetics</td>\n",
       "      <td>3.0795</td>\n",
       "      <td>4.0914</td>\n",
       "      <td>4.0</td>\n",
       "      <td>4.0</td>\n",
       "      <td>2.7745</td>\n",
       "      <td>3.7304</td>\n",
       "      <td>4.0</td>\n",
       "      <td>4.0</td>\n",
       "    </tr>\n",
       "    <tr>\n",
       "      <th>18</th>\n",
       "      <td>Performance and Reliability</td>\n",
       "      <td>2.2000</td>\n",
       "      <td>2.2000</td>\n",
       "      <td>1.0</td>\n",
       "      <td>3.0</td>\n",
       "      <td>1.5950</td>\n",
       "      <td>1.5950</td>\n",
       "      <td>1.0</td>\n",
       "      <td>3.0</td>\n",
       "    </tr>\n",
       "    <tr>\n",
       "      <th>19</th>\n",
       "      <td>Gynecology</td>\n",
       "      <td>1.9370</td>\n",
       "      <td>2.2230</td>\n",
       "      <td>13.0</td>\n",
       "      <td>56.0</td>\n",
       "      <td>2.0780</td>\n",
       "      <td>2.3526</td>\n",
       "      <td>13.0</td>\n",
       "      <td>56.0</td>\n",
       "    </tr>\n",
       "  </tbody>\n",
       "</table>\n",
       "</div>"
      ],
      "text/plain": [
       "                                         categoryname  median_2016  p80_2016  \\\n",
       "0                                      Plasma Physics       6.6565   10.1356   \n",
       "1                                        Oceanography       1.3470    2.4100   \n",
       "2                    History of Mathematical Sciences       0.5175    0.6432   \n",
       "3                             Robotics and Automation       1.5880    2.2588   \n",
       "4                                   Nuclear Chemistry       0.6675    1.0362   \n",
       "5                                      Geriatric Care       0.0000    0.0000   \n",
       "6          Biological and Medical Physics, Biophysics       1.4720    2.3980   \n",
       "7   Atoms and Molecules in Strong Fields, Laser Ma...       0.9870    1.0608   \n",
       "8                                 Imaging / Radiology       1.8185    2.4368   \n",
       "9                                              Syntax       0.5980    0.8710   \n",
       "10                            Structural Anthropology       0.0000    0.0000   \n",
       "11                                           Mycology       1.8830    6.9724   \n",
       "12                                       Area Studies       1.3020    1.3020   \n",
       "13       Characterization and Evaluation of Materials       1.4250    2.0198   \n",
       "14              Consulting, Supervision and Coaching        0.0000    0.0000   \n",
       "15                           Learning and Instruction       1.4400    2.8390   \n",
       "16                                    Solid Mechanics       1.8510    2.2014   \n",
       "17                                       Cytogenetics       3.0795    4.0914   \n",
       "18                        Performance and Reliability       2.2000    2.2000   \n",
       "19                                         Gynecology       1.9370    2.2230   \n",
       "\n",
       "    ranked_journals_2016  journals_2016  median_2017  p80_2017  \\\n",
       "0                    2.0            3.0       6.7760   10.4102   \n",
       "1                   19.0           24.0       1.4010    2.4778   \n",
       "2                    2.0            8.0       0.6580    0.7030   \n",
       "3                    3.0           12.0       1.4230    1.9156   \n",
       "4                    2.0            7.0       0.7345    1.0024   \n",
       "5                    0.0            1.0       0.0000    0.0000   \n",
       "6                   21.0           38.0       1.8020    2.4350   \n",
       "7                    2.0            2.0       0.9495    1.0182   \n",
       "8                   30.0           69.0       1.8965    2.8928   \n",
       "9                    2.0            4.0       0.8825    0.9068   \n",
       "10                   0.0            0.0       0.0000    0.0000   \n",
       "11                   4.0            5.0       2.3195    7.3286   \n",
       "12                   1.0            1.0       1.2500    1.2500   \n",
       "13                  57.0           90.0       1.4950    2.1558   \n",
       "14                   0.0            3.0       0.0000    0.0000   \n",
       "15                   9.0           21.0       1.5170    3.2730   \n",
       "16                  15.0           23.0       1.8960    2.3272   \n",
       "17                   4.0            4.0       2.7745    3.7304   \n",
       "18                   1.0            3.0       1.5950    1.5950   \n",
       "19                  13.0           56.0       2.0780    2.3526   \n",
       "\n",
       "    ranked_journals_2017  journals_2017  \n",
       "0                    2.0            3.0  \n",
       "1                   19.0           24.0  \n",
       "2                    2.0            8.0  \n",
       "3                    3.0           13.0  \n",
       "4                    2.0            8.0  \n",
       "5                    0.0            1.0  \n",
       "6                   21.0           38.0  \n",
       "7                    2.0            2.0  \n",
       "8                   30.0           71.0  \n",
       "9                    2.0            4.0  \n",
       "10                   0.0            0.0  \n",
       "11                   4.0            5.0  \n",
       "12                   1.0            1.0  \n",
       "13                  58.0           90.0  \n",
       "14                   0.0            3.0  \n",
       "15                  11.0           21.0  \n",
       "16                  15.0           23.0  \n",
       "17                   4.0            4.0  \n",
       "18                   1.0            3.0  \n",
       "19                  13.0           56.0  "
      ]
     },
     "execution_count": 533,
     "metadata": {},
     "output_type": "execute_result"
    }
   ],
   "source": [
    "#Example\n",
    "disciplines[['categoryname',\n",
    "             'median_2016', 'p80_2016', 'ranked_journals_2016', 'journals_2016', \n",
    "             'median_2017', 'p80_2017', 'ranked_journals_2017', 'journals_2017']][:20]"
   ]
  },
  {
   "cell_type": "markdown",
   "metadata": {},
   "source": [
    "### Plant Sciences"
   ]
  },
  {
   "cell_type": "markdown",
   "metadata": {},
   "source": [
    "Example of evolution of the WoS impact factor distribution for a specific journal."
   ]
  },
  {
   "cell_type": "code",
   "execution_count": 551,
   "metadata": {},
   "outputs": [
    {
     "data": {
      "image/png": "[encoded data removed]",
      "text/plain": [
       "<Figure size 1080x360 with 9 Axes>"
      ]
     },
     "metadata": {
      "needs_background": "light"
     },
     "output_type": "display_data"
    },
    {
     "data": {
      "image/png": "[encoded data removed]",
      "text/plain": [
       "<Figure size 1080x504 with 2 Axes>"
      ]
     },
     "metadata": {
      "needs_background": "light"
     },
     "output_type": "display_data"
    }
   ],
   "source": [
    "categoryname = 'Plant Sciences'\n",
    "max_journ = 30\n",
    "max_if = 12\n",
    "bins = 20\n",
    "\n",
    "plt.figure( figsize=(15,5) )\n",
    "for i_y, year in enumerate(np.arange(2009,2018)):\n",
    "    distro = IF_WoS_props( categoryname, year=year, complete_dist=True)\n",
    "    plt.subplot( 3,3,i_y+1 )\n",
    "    plt.hist( distro, range=(0,max_if), bins=bins, label=year )\n",
    "    plt.xlim(0,max_if)\n",
    "    plt.ylim(0,max_journ)\n",
    "    plt.legend( loc='upper right' )\n",
    "    if i_y<6:\n",
    "        plt.xticks( np.arange(0,max_if+2,2), '' )\n",
    "    if i_y==3:\n",
    "        plt.ylabel( \"Number of journals\", fontsize=15 )\n",
    "    if i_y==7:\n",
    "        plt.xlabel( \"WoS impact factor\", fontsize=15 )\n",
    "    \n",
    "    \n",
    "fig = plt.figure( figsize=(15,7) )\n",
    "plt.subplots_adjust( hspace=0 )\n",
    "plt.subplot( 2,1,1 )\n",
    "median = np.array(disciplines[medians_disc])[index_disc[categoryname]]\n",
    "p80 = np.array(disciplines[p80_disc])[index_disc[categoryname]]\n",
    "plt.plot( years_disc, median, lw=2, label='Median' )\n",
    "plt.plot( years_disc, p80, lw=2, label='P80%' )\n",
    "plt.xticks( np.arange(1990,2016,5), '' )\n",
    "plt.ylabel( \"WoS impact factor\", fontsize=15 )\n",
    "plt.yticks( fontsize=15 )\n",
    "plt.legend( loc='upper left', fontsize=15 )\n",
    "\n",
    "plt.subplot( 2,1,2 )\n",
    "njournals = np.array(disciplines[journals_disc])[index_disc[categoryname]]\n",
    "nrjournals = np.array(disciplines[ranked_journals_disc])[index_disc[categoryname]]\n",
    "plt.plot( years_disc, njournals, lw=2, label='Total', color='#1f77b4', ls='-' )\n",
    "plt.plot( years_disc, nrjournals, lw=2, label='Ranked', color='#1f77b4', ls='--' )\n",
    "plt.xlabel( \"Year\", fontsize=15 )\n",
    "plt.xticks( fontsize=15 )\n",
    "plt.ylabel( \"Number of journals\", fontsize=15 )\n",
    "plt.yticks( fontsize=15 )\n",
    "fig.align_ylabels()\n",
    "plt.legend( loc='upper left', fontsize=15 )\n",
    "\n",
    "plt.show()"
   ]
  },
  {
   "cell_type": "markdown",
   "metadata": {},
   "source": [
    "The growth of the impact factor $G_{\\mathrm{WoS}}$ of each discipline is computed as:\n",
    "\n",
    "$$ G_{\\mathrm{WoS}} = \\frac{\\Delta \\textrm{IF}_{\\textrm{WoS}}}{\\Delta t} = \\frac{\\textrm{IF}^{2017}_{\\textrm{WoS}} - \\textrm{IF}^{0}_{\\textrm{WoS}}}{2017-\\textrm{year}^0}, $$\n",
    "\n",
    "where $\\textrm{IF}^{0}_{\\textrm{WoS}}$, $\\textrm{year}^0$ denote the first impact factor of any journal in that discipline and the year it was recorded, respectively."
   ]
  },
  {
   "cell_type": "code",
   "execution_count": 545,
   "metadata": {},
   "outputs": [],
   "source": [
    "disciplines['growth'] = np.sum((np.array(disciplines[medians_disc])[:,1:]-np.array(disciplines[medians_disc])[:,:-1])*(np.array(disciplines[medians_disc])[:,:-1]>0),axis=1)/(np.sum(np.array(disciplines[medians_disc])>0,axis=1)+1e-5)"
   ]
  },
  {
   "cell_type": "code",
   "execution_count": 546,
   "metadata": {},
   "outputs": [
    {
     "data": {
      "image/png": "[encoded data removed]",
      "text/plain": [
       "<Figure size 720x432 with 1 Axes>"
      ]
     },
     "metadata": {
      "needs_background": "light"
     },
     "output_type": "display_data"
    }
   ],
   "source": [
    "plt.figure( figsize = (10,6) )\n",
    "plt.hist(disciplines['growth'][disciplines['growth']!=0], range=(-1,1), bins=100, \n",
    "         label='$\\overline{G}_{\\mathrm{WoS}} = %1.2f$/year'%\n",
    "         (np.mean(disciplines['growth'][disciplines['growth']!=0])))\n",
    "plt.xticks(fontsize=15)\n",
    "plt.xlabel( \"$G_{\\mathrm{WoS}}$ [IF$_{\\mathrm{WoS}}$/year]\", fontsize=15 )\n",
    "plt.yticks(fontsize=15)\n",
    "plt.ylabel( \"Number of Journals\", fontsize=15 )\n",
    "#plt.vlines()\n",
    "plt.legend( loc='upper left', fontsize=15 )\n",
    "plt.show()"
   ]
  },
  {
   "cell_type": "markdown",
   "metadata": {},
   "source": [
    "On average, the WoS impact factor growth follows a normal distribution whose mean is about 0.05 per year for all disciplines. Interestingly, some disciplines exhibit negative growth.\n"
   ]
  },
  {
   "cell_type": "markdown",
   "metadata": {},
   "source": [
    "## Fields"
   ]
  },
  {
   "cell_type": "markdown",
   "metadata": {},
   "source": [
    "Although the categorization of journals in different disciplines is useful to identify similar (competing) journals, many disciplines are very narrow and specific. As a consequence, some disciplines have only a few journals (only 1 in some cases), a situation that is not ideal for robust statistical analysis.\n",
    "\n",
    "In order to mitigate this problem, I will group similar disciplines in a more general category, namely a *Field*. In the order to define a field, I will use the journals that belong to different disciplines as the connectors that link those disciplines together. A group of linked disciplines is a field. (In technical terms, this is called a [Collaboration graph](https://en.wikipedia.org/wiki/Collaboration_graph).)"
   ]
  },
  {
   "cell_type": "code",
   "execution_count": 706,
   "metadata": {},
   "outputs": [],
   "source": [
    "#Array to quantify links (journals) between disciplines\n",
    "graph_links = np.zeros((n_disc,n_disc))\n",
    "\n",
    "#Filling matrix\n",
    "for i_cat, categoryname in enumerate(disciplines.categoryname):\n",
    "    mask_cat_tmp = journals_about['categoryname'] == categoryname\n",
    "    id_tmp = np.array(journals_about['idNum'][mask_cat_tmp].astype(int))\n",
    "    mask_field_tmp = np.in1d( np.array(journals_about['idNum'].astype(int)), id_tmp )\n",
    "    mask_no_tmp = journals_about['categoryname'][mask_field_tmp].values != categoryname\n",
    "    if np.sum(mask_no_tmp)!=0:\n",
    "        non_repeat_journals_tmp = journals_about['categoryname'][mask_field_tmp][mask_no_tmp]\n",
    "        mask_nan_tmp = non_repeat_journals_tmp.isnull()==False\n",
    "        indices_tmp = list(map(index_disc.get, \n",
    "                               non_repeat_journals_tmp[mask_nan_tmp]))\n",
    "        counter = collections.Counter(indices_tmp)\n",
    "        graph_links[i_cat,list(counter.keys())] = list(counter.values())"
   ]
  },
  {
   "cell_type": "code",
   "execution_count": 705,
   "metadata": {},
   "outputs": [
    {
     "data": {
      "text/plain": [
       "'Microbiology'"
      ]
     },
     "execution_count": 705,
     "metadata": {},
     "output_type": "execute_result"
    }
   ],
   "source": [
    "disciplines.categoryname[42]"
   ]
  },
  {
   "cell_type": "code",
   "execution_count": 715,
   "metadata": {},
   "outputs": [
    {
     "data": {
      "text/plain": [
       "1                                           Oceanography\n",
       "11                                              Mycology\n",
       "34                                     Protein Structure\n",
       "37                                          Bacteriology\n",
       "38                                         Endocrinology\n",
       "45                                 Biological Microscopy\n",
       "57                               Pharmacology/Toxicology\n",
       "63                                     Forensic Medicine\n",
       "66                                     Organic Chemistry\n",
       "84                                            Proteomics\n",
       "88                                          Neurobiology\n",
       "91                                               Vaccine\n",
       "94                                     Internal Medicine\n",
       "101                                          Agriculture\n",
       "108                                  Solid State Physics\n",
       "133                                             Oncology\n",
       "134                         Animal Genetics and Genomics\n",
       "158                                       Biogeosciences\n",
       "168                              Eukaryotic Microbiology\n",
       "189                          Soil Science & Conservation\n",
       "192                                Biochemistry, general\n",
       "201                                  Genetic Engineering\n",
       "204                                           Enzymology\n",
       "215                                 Engineering, general\n",
       "230                                       Human Genetics\n",
       "240                                  Infectious Diseases\n",
       "269                                         Astrobiology\n",
       "281            Algorithm Analysis and Problem Complexity\n",
       "290                                Terrestrial Pollution\n",
       "295              Environmental Engineering/Biotechnology\n",
       "                             ...                        \n",
       "582                                         Geochemistry\n",
       "585                         Plant Breeding/Biotechnology\n",
       "597                                     Plant Physiology\n",
       "602                                            Nutrition\n",
       "604                         Geoecology/Natural Processes\n",
       "625                      Microbial Genetics and Genomics\n",
       "641                                      Protein Science\n",
       "644                    Waste Management/Waste Technology\n",
       "646             Animal Systematics/Taxonomy/Biogeography\n",
       "654                                    Food Microbiology\n",
       "657                                       Bioinformatics\n",
       "665                                 Applied Microbiology\n",
       "671               Veterinary Medicine/Veterinary Science\n",
       "679                                    Microbial Ecology\n",
       "690                                         Biodiversity\n",
       "712                        Water Quality/Water Pollution\n",
       "722                      Chemistry/Food Science, general\n",
       "723                         Marine & Freshwater Sciences\n",
       "726                                    Tropical Medicine\n",
       "727    Atmospheric Protection/Air Quality Control/Air...\n",
       "748                          Plant Genetics and Genomics\n",
       "757                                        Public Health\n",
       "769                      Medicine/Public Health, general\n",
       "785                                         Parasitology\n",
       "812                                 Environmental Health\n",
       "824                                              Ecology\n",
       "838                                      Systems Biology\n",
       "841                              Earth Sciences, general\n",
       "846                                       Plant Sciences\n",
       "862                                             Forestry\n",
       "Name: categoryname, Length: 91, dtype: object"
      ]
     },
     "execution_count": 715,
     "metadata": {},
     "output_type": "execute_result"
    }
   ],
   "source": [
    "disciplines.categoryname[graph_links[42]>0]"
   ]
  },
  {
   "cell_type": "code",
   "execution_count": 709,
   "metadata": {},
   "outputs": [
    {
     "data": {
      "text/plain": [
       "[<matplotlib.lines.Line2D at 0x7f914d34b470>]"
      ]
     },
     "execution_count": 709,
     "metadata": {},
     "output_type": "execute_result"
    },
    {
     "data": {
      "image/png": "[encoded data removed]",
      "text/plain": [
       "<Figure size 432x288 with 1 Axes>"
      ]
     },
     "metadata": {
      "needs_background": "light"
     },
     "output_type": "display_data"
    }
   ],
   "source": [
    "plt.plot(np.sort(np.sum((graph_links>0)&(graph_links<=5),axis=1))[::-1])"
   ]
  },
  {
   "cell_type": "code",
   "execution_count": 718,
   "metadata": {},
   "outputs": [
    {
     "data": {
      "text/plain": [
       "517                               Life Sciences, general\n",
       "474                                Developmental Biology\n",
       "94                                     Internal Medicine\n",
       "769                      Medicine/Public Health, general\n",
       "841                              Earth Sciences, general\n",
       "192                                Biochemistry, general\n",
       "101                                          Agriculture\n",
       "308                                        Neurosciences\n",
       "57                               Pharmacology/Toxicology\n",
       "416                                              Surgery\n",
       "532                  Operations Research/Decision Theory\n",
       "798                           Materials Science, general\n",
       "425     Information Systems Applications (incl.Internet)\n",
       "340                                           Immunology\n",
       "433                                 Biomedicine, general\n",
       "313                                         Rheumatology\n",
       "434                                 Environment, general\n",
       "323                                        Biotechnology\n",
       "657                                       Bioinformatics\n",
       "598                                       Nanotechnology\n",
       "617                                   Education, general\n",
       "569                                            Neurology\n",
       "497    Theoretical, Mathematical and Computational Ph...\n",
       "465                                              Zoology\n",
       "720       User Interfaces and Human Computer Interaction\n",
       "721                                       IT in Business\n",
       "134                         Animal Genetics and Genomics\n",
       "646             Animal Systematics/Taxonomy/Biogeography\n",
       "732                                      Economic Policy\n",
       "613                                           Pediatrics\n",
       "                             ...                        \n",
       "536         Statistics and Computing/Statistics Programs\n",
       "535                       Theoretical Ecology/Statistics\n",
       "529                                     Business Finance\n",
       "527                     Social/Human Development Studies\n",
       "526                                   Algebraic Topology\n",
       "525                                            Insurance\n",
       "553                                   Curriculum Studies\n",
       "554                                Labour Law/Social Law\n",
       "555                                        Sedimentology\n",
       "557                               Philosophy of Medicine\n",
       "587                     Engineering/Technology Education\n",
       "586                                        Psychometrics\n",
       "584    Mathematical Models of Cognitive Processes and...\n",
       "581                             Philosophy of Technology\n",
       "580                                      Sexual Medicine\n",
       "579                                       Media Research\n",
       "578       Water Policy/Water Governance/Water Management\n",
       "576                       International Relations Theory\n",
       "573                                    Engine Technology\n",
       "572                                             Diabetes\n",
       "571                                         Social Media\n",
       "567                        Creativity and Arts Education\n",
       "566                   Pharmaceutical Sciences/Technology\n",
       "565                              Enterprise Architecture\n",
       "564            Global Analysis and Analysis on Manifolds\n",
       "562     Computer-Aided Engineering (CAD, CAE) and Design\n",
       "561                                      Applied Ecology\n",
       "560                        Computational Social Sciences\n",
       "558                                     Economic Geology\n",
       "0                                         Plasma Physics\n",
       "Name: categoryname, Length: 900, dtype: object"
      ]
     },
     "execution_count": 718,
     "metadata": {},
     "output_type": "execute_result"
    }
   ],
   "source": [
    "disciplines.categoryname[np.argsort(np.sum((graph_links==5),axis=1))[::-1]]"
   ]
  },
  {
   "cell_type": "code",
   "execution_count": 703,
   "metadata": {},
   "outputs": [
    {
     "data": {
      "text/plain": [
       "757                                        Public Health\n",
       "769                      Medicine/Public Health, general\n",
       "79                              Social Sciences, general\n",
       "517                               Life Sciences, general\n",
       "434                                 Environment, general\n",
       "138                             Quality of Life Research\n",
       "192                                Biochemistry, general\n",
       "440                              Sustainable Development\n",
       "442                                               Ethics\n",
       "433                                 Biomedicine, general\n",
       "233            Biomedical Engineering and Bioengineering\n",
       "801                              Artificial Intelligence\n",
       "177                                 Cognitive Psychology\n",
       "669                            Computer Science, general\n",
       "215                                 Engineering, general\n",
       "898                                   Physical Chemistry\n",
       "42                                          Microbiology\n",
       "302                                   Sociology, general\n",
       "824                                              Ecology\n",
       "308                                        Neurosciences\n",
       "405                                   Molecular Medicine\n",
       "657                                       Bioinformatics\n",
       "543                                    Political Science\n",
       "798                           Materials Science, general\n",
       "879                           Computational Intelligence\n",
       "808                                   Health Informatics\n",
       "722                      Chemistry/Food Science, general\n",
       "508                                   Economics, general\n",
       "6             Biological and Medical Physics, Biophysics\n",
       "497    Theoretical, Mathematical and Computational Ph...\n",
       "                             ...                        \n",
       "335                        Sport Education and Didactics\n",
       "740                                  Medieval Philosophy\n",
       "31                              International Sports Law\n",
       "525                                            Insurance\n",
       "279                                Schools and Schooling\n",
       "429                    Lifelong Learning/Adult Education\n",
       "837                Sociology of Familiy, Youth and Aging\n",
       "629                                              Grammar\n",
       "774        Fire Science, Hazard Control, Building Safety\n",
       "588                                    Language Teaching\n",
       "111                               Religion and Education\n",
       "54                                Indo-Iranian Languages\n",
       "95                                         Sport Science\n",
       "102                               Real Estate Management\n",
       "226                                     Health Economics\n",
       "480                                     Speech Pathology\n",
       "608                        Development and Social Change\n",
       "263                                       Screen Studies\n",
       "92                                      Child Well-being\n",
       "587                     Engineering/Technology Education\n",
       "14                 Consulting, Supervision and Coaching \n",
       "61                                    Sales/Distribution\n",
       "635                                   Nursing Management\n",
       "661                                       Graphic Design\n",
       "807                                    Crime and Society\n",
       "868                                      Risk Management\n",
       "305                      Corporate Social Responsibility\n",
       "124               Popular Science in Medicine and Health\n",
       "186                                   Development Policy\n",
       "758                                   Tourism Management\n",
       "Name: categoryname, Length: 900, dtype: object"
      ]
     },
     "execution_count": 703,
     "metadata": {},
     "output_type": "execute_result"
    }
   ],
   "source": [
    "disciplines.categoryname[np.argsort(np.sum((graph_links>0)&(graph_links<=1),axis=1))[::-1]]"
   ]
  },
  {
   "cell_type": "code",
   "execution_count": 659,
   "metadata": {},
   "outputs": [
    {
     "data": {
      "text/plain": [
       "'Computer Appl. in Life Sciences'"
      ]
     },
     "execution_count": 659,
     "metadata": {},
     "output_type": "execute_result"
    }
   ],
   "source": [
    "disciplines.categoryname[29]"
   ]
  },
  {
   "cell_type": "code",
   "execution_count": 678,
   "metadata": {},
   "outputs": [
    {
     "data": {
      "text/plain": [
       "13.0"
      ]
     },
     "execution_count": 678,
     "metadata": {},
     "output_type": "execute_result"
    }
   ],
   "source": [
    "graph_links[679,42]"
   ]
  },
  {
   "cell_type": "code",
   "execution_count": 677,
   "metadata": {},
   "outputs": [
    {
     "data": {
      "text/plain": [
       "13.0"
      ]
     },
     "execution_count": 677,
     "metadata": {},
     "output_type": "execute_result"
    }
   ],
   "source": [
    "graph_links[42,679]"
   ]
  },
  {
   "cell_type": "code",
   "execution_count": 657,
   "metadata": {},
   "outputs": [
    {
     "data": {
      "text/plain": [
       "(array([27.,  8.,  4.,  3.,  2.,  2.,  2.,  2.,  2.,  2.,  1.,  0.,  0.,\n",
       "         0.,  0.,  0.,  0.,  0.,  0.]),\n",
       " array([ 1.,  2.,  3.,  4.,  5.,  6.,  7.,  8.,  9., 10., 11., 12., 13.,\n",
       "        14., 15., 16., 17., 18., 19., 20.]),\n",
       " <a list of 19 Patch objects>)"
      ]
     },
     "execution_count": 657,
     "metadata": {},
     "output_type": "execute_result"
    },
    {
     "data": {
      "image/png": "[encoded data removed]",
      "text/plain": [
       "<Figure size 432x288 with 1 Axes>"
      ]
     },
     "metadata": {
      "needs_background": "light"
     },
     "output_type": "display_data"
    }
   ],
   "source": [
    "plt.hist(graph_links[29],bins=19, range=(1,20), cumulative=-1)"
   ]
  },
  {
   "cell_type": "code",
   "execution_count": 645,
   "metadata": {},
   "outputs": [
    {
     "data": {
      "text/plain": [
       "11                            Mycology\n",
       "192              Biochemistry, general\n",
       "319                           Virology\n",
       "323                      Biotechnology\n",
       "438                       Cell Biology\n",
       "465                            Zoology\n",
       "478               Medical Microbiology\n",
       "517             Life Sciences, general\n",
       "625    Microbial Genetics and Genomics\n",
       "665               Applied Microbiology\n",
       "679                  Microbial Ecology\n",
       "785                       Parasitology\n",
       "824                            Ecology\n",
       "846                     Plant Sciences\n",
       "Name: categoryname, dtype: object"
      ]
     },
     "execution_count": 645,
     "metadata": {},
     "output_type": "execute_result"
    }
   ],
   "source": [
    "disciplines.categoryname[graph_links[42]>=5]"
   ]
  },
  {
   "cell_type": "code",
   "execution_count": 461,
   "metadata": {},
   "outputs": [
    {
     "data": {
      "text/plain": [
       "['Community and Environmental Psychology',\n",
       " 'Neurosciences',\n",
       " 'Neurology',\n",
       " 'Neurology',\n",
       " 'Neurosurgery',\n",
       " 'Public Health',\n",
       " 'Clinical Psychology',\n",
       " 'Personality and Social Psychology',\n",
       " 'Public Health',\n",
       " 'Health Psychology',\n",
       " 'Community and Environmental Psychology',\n",
       " 'Health Promotion and Disease Prevention',\n",
       " 'Health Informatics',\n",
       " 'Public Health',\n",
       " 'Health Administration',\n",
       " 'Clinical Psychology',\n",
       " 'Health Informatics',\n",
       " 'Public Health',\n",
       " 'Sociology, general',\n",
       " 'Medicine/Public Health, general',\n",
       " 'Neurology',\n",
       " 'Neurosurgery',\n",
       " 'Psychotherapy',\n",
       " 'Neurology',\n",
       " 'Psychotherapy',\n",
       " 'Psychopharmacology',\n",
       " 'Forensic Psychiatry',\n",
       " 'Human Physiology',\n",
       " 'Neurology',\n",
       " 'Neurosciences',\n",
       " 'Health Psychology',\n",
       " 'Internal Medicine',\n",
       " 'Public Health',\n",
       " 'Health Psychology',\n",
       " 'Psychology, general',\n",
       " 'Rehabilitation',\n",
       " 'Community and Environmental Psychology',\n",
       " 'Epidemiology',\n",
       " 'Neurosciences',\n",
       " 'Neurology',\n",
       " 'Behavioral Therapy',\n",
       " 'Clinical Psychology',\n",
       " 'Sociology, general',\n",
       " 'Education, general',\n",
       " 'Cross Cultural Psychology',\n",
       " 'Neurology',\n",
       " 'Psychotherapy',\n",
       " 'Psychopharmacology',\n",
       " 'Psychosomatic Medicine',\n",
       " 'Clinical Psychology',\n",
       " 'Behavioral Sciences',\n",
       " 'Clinical Psychology',\n",
       " 'Health Administration',\n",
       " 'Pediatrics',\n",
       " 'Clinical Psychology',\n",
       " 'Child and Adolescent Psychiatry',\n",
       " 'Forensic Psychiatry',\n",
       " 'Neurosciences',\n",
       " 'Neuroradiology',\n",
       " 'Neuropsychology',\n",
       " 'Law and Psychology',\n",
       " 'Criminology and Criminal Justice, general',\n",
       " 'Neurosciences',\n",
       " 'Human Genetics',\n",
       " 'Neurology',\n",
       " 'Neuropsychology',\n",
       " 'Pediatrics',\n",
       " 'Psychopharmacology',\n",
       " 'Psychotherapy',\n",
       " 'Behavioral Therapy',\n",
       " 'Neurology',\n",
       " 'Neurosciences',\n",
       " 'Neuropsychology',\n",
       " 'Pediatrics',\n",
       " 'Human Genetics',\n",
       " 'Neurology',\n",
       " 'Psychotherapy',\n",
       " 'Neuropsychology',\n",
       " 'Psychopharmacology',\n",
       " 'Psychotherapy',\n",
       " 'Psychoanalysis',\n",
       " 'Behavioral Therapy',\n",
       " 'Medicine/Public Health, general',\n",
       " 'Neurosciences',\n",
       " 'Behavioral Sciences',\n",
       " 'Pharmacotherapy',\n",
       " 'Biological Psychology',\n",
       " 'Neurosciences',\n",
       " 'Neurobiology',\n",
       " 'Psychopharmacology',\n",
       " 'Animal Models',\n",
       " 'Neuropsychology',\n",
       " 'Psychology, general',\n",
       " 'Health Promotion and Disease Prevention',\n",
       " 'Clinical Psychology',\n",
       " 'Neurosciences',\n",
       " 'Psychopharmacology',\n",
       " 'Psychotherapy',\n",
       " 'Psychopharmacology',\n",
       " 'Behavioral Therapy',\n",
       " 'Neurology',\n",
       " 'Clinical Psychology',\n",
       " 'Neurology',\n",
       " 'Neurology',\n",
       " 'Behavioral Therapy',\n",
       " 'Neurology',\n",
       " 'Pediatrics',\n",
       " 'Pediatrics',\n",
       " 'General Practice / Family Medicine',\n",
       " 'Internal Medicine',\n",
       " 'General Practice / Family Medicine',\n",
       " 'Otorhinolaryngology',\n",
       " 'Neurology',\n",
       " 'Cardiology',\n",
       " 'Medicine/Public Health, general',\n",
       " 'Neurosciences',\n",
       " 'Neurology',\n",
       " 'Cognitive Psychology',\n",
       " 'Neurology',\n",
       " 'Psychopharmacology',\n",
       " 'Psychotherapy',\n",
       " 'Psychotherapy and Counseling',\n",
       " 'Rehabilitation',\n",
       " 'Clinical Psychology',\n",
       " 'Social Work',\n",
       " 'Child and School Psychology',\n",
       " 'Neurosciences',\n",
       " 'Pharmacology/Toxicology',\n",
       " 'Medical Education',\n",
       " 'Anthropology',\n",
       " 'Public Health',\n",
       " 'Sociology, general',\n",
       " 'Clinical Psychology',\n",
       " 'Clinical Psychology',\n",
       " 'Personality and Social Psychology',\n",
       " 'Cross Cultural Psychology',\n",
       " 'Psychology, general',\n",
       " 'Psychotherapy',\n",
       " 'Psychoanalysis',\n",
       " 'Epidemiology',\n",
       " 'Psychotherapy and Counseling',\n",
       " 'Clinical Psychology',\n",
       " 'Personality and Social Psychology',\n",
       " 'Public Health',\n",
       " 'Psychology, general',\n",
       " 'Psychotherapy',\n",
       " 'Neurosciences',\n",
       " 'Neurology',\n",
       " 'Medicine/Public Health, general',\n",
       " 'Neurosciences',\n",
       " 'Behavioral Sciences',\n",
       " 'Pharmacotherapy',\n",
       " 'Biological Psychology',\n",
       " 'Psychology, general',\n",
       " 'Clinical Psychology',\n",
       " 'Community and Environmental Psychology',\n",
       " 'Education, general',\n",
       " 'Public Health',\n",
       " 'Psychopharmacology',\n",
       " 'Neurology',\n",
       " 'Sexual Behavior',\n",
       " 'Clinical Psychology',\n",
       " 'Criminology and Criminal Justice, general',\n",
       " 'Sociology, general',\n",
       " 'Community and Environmental Psychology',\n",
       " 'Economics, general',\n",
       " 'Child and Adolescent Psychiatry',\n",
       " 'Neurosciences',\n",
       " 'Neuroradiology',\n",
       " 'Neurology',\n",
       " 'Neurosurgery',\n",
       " 'Pathology',\n",
       " 'Psychotherapy',\n",
       " 'Neurology',\n",
       " 'Psychopharmacology',\n",
       " 'Pharmacotherapy',\n",
       " 'Neurosciences',\n",
       " 'Psychotherapy',\n",
       " 'Neurology',\n",
       " 'Medicine/Public Health, general',\n",
       " 'Neurosciences',\n",
       " 'Behavioral Sciences',\n",
       " 'Pharmacotherapy',\n",
       " 'Biological Psychology',\n",
       " 'Infectious Diseases',\n",
       " 'Gynecology',\n",
       " 'Social Sciences, general',\n",
       " 'Psychotherapy',\n",
       " 'Social Sciences, general',\n",
       " 'Developmental Psychology',\n",
       " 'Neurosciences',\n",
       " 'Child and School Psychology',\n",
       " 'Rehabilitation',\n",
       " 'Social Work',\n",
       " 'Neurology',\n",
       " 'Psychotherapy',\n",
       " 'Psychopharmacology',\n",
       " 'Developmental Psychology',\n",
       " 'Neurosciences',\n",
       " 'Child and School Psychology',\n",
       " 'Criminology and Criminal Justice, general',\n",
       " 'Educational Psychology',\n",
       " 'Clinical Psychology',\n",
       " 'Social Work and Community Development',\n",
       " 'Developmental Psychology',\n",
       " 'Social Work',\n",
       " 'Child and School Psychology',\n",
       " 'Public Health',\n",
       " 'Neurosciences',\n",
       " 'Neurosciences',\n",
       " 'Neurology',\n",
       " 'Medicine/Public Health, general',\n",
       " 'Neurology',\n",
       " 'Neuroradiology',\n",
       " 'Neurosurgery',\n",
       " 'Neurology',\n",
       " 'Neurosciences',\n",
       " 'Psychotherapy',\n",
       " 'Human Genetics',\n",
       " 'Gynecology',\n",
       " 'Obstetrics/Perinatology/Midwifery',\n",
       " 'Metabolic Diseases',\n",
       " 'Psychology, general',\n",
       " 'Neurosciences',\n",
       " 'Educational Psychology',\n",
       " 'Neurology',\n",
       " 'Behavioral Therapy',\n",
       " 'Neurology',\n",
       " 'Neurology',\n",
       " 'Public Health',\n",
       " 'Psychopharmacology',\n",
       " 'Neurology',\n",
       " 'Psychotherapy',\n",
       " 'Psychology, general',\n",
       " 'Oncology',\n",
       " 'Clinical Psychology']"
      ]
     },
     "execution_count": 461,
     "metadata": {},
     "output_type": "execute_result"
    }
   ],
   "source": [
    "mask_tmp = journals_about['categoryname']=='Psychiatry'\n",
    "id_tmp = np.array(journals_about['idNum'][mask_tmp].astype(int))\n",
    "mask_field = np.in1d( np.array(journals_about['idNum'].astype(int)), id_tmp )\n",
    "mask_no = journals_about['categoryname'][mask_field].values != 'Psychiatry'\n",
    "journals_about['categoryname'][mask_field].values[mask_no]"
   ]
  },
  {
   "cell_type": "code",
   "execution_count": 543,
   "metadata": {},
   "outputs": [
    {
     "name": "stderr",
     "output_type": "stream",
     "text": [
      "/home/sebastian/Software/anaconda3/lib/python3.7/site-packages/ipykernel_launcher.py:1: RuntimeWarning: divide by zero encountered in log10\n",
      "  \"\"\"Entry point for launching an IPython kernel.\n"
     ]
    },
    {
     "data": {
      "text/plain": [
       "(-0.4, 1)"
      ]
     },
     "execution_count": 543,
     "metadata": {},
     "output_type": "execute_result"
    },
    {
     "data": {
      "image/png": "[encoded data removed]",
      "text/plain": [
       "<Figure size 432x288 with 1 Axes>"
      ]
     },
     "metadata": {
      "needs_background": "light"
     },
     "output_type": "display_data"
    }
   ],
   "source": [
    "plt.scatter( np.log10(disciplines['journals_2017']), growth, alpha=0.2 )\n",
    "plt.ylim( -0.4,1 )"
   ]
  },
  {
   "cell_type": "code",
   "execution_count": 49,
   "metadata": {},
   "outputs": [
    {
     "data": {
      "text/plain": [
       "Index(['@context', 'about', 'alternateName', 'contentRating', 'description',\n",
       "       'editor', 'id', 'inLanguage', 'isAccessibleForFree', 'issn', 'license',\n",
       "       'name', 'productId', 'publisher', 'publisherImprint', 'sameAs',\n",
       "       'sdDataset', 'sdDatePublished', 'sdLicense', 'sdPublisher', 'sdSource',\n",
       "       'startYear', 'type', 'url'],\n",
       "      dtype='object')"
      ]
     },
     "execution_count": 49,
     "metadata": {},
     "output_type": "execute_result"
    }
   ],
   "source": [
    "journals.keys()"
   ]
  },
  {
   "cell_type": "code",
   "execution_count": 286,
   "metadata": {},
   "outputs": [
    {
     "data": {
      "text/plain": [
       "<matplotlib.collections.PathCollection at 0x7f23673b0048>"
      ]
     },
     "execution_count": 286,
     "metadata": {},
     "output_type": "execute_result"
    },
    {
     "data": {
      "image/png": "[encoded data removed]",
      "text/plain": [
       "<Figure size 720x432 with 1 Axes>"
      ]
     },
     "metadata": {
      "needs_background": "light"
     },
     "output_type": "display_data"
    }
   ],
   "source": [
    "mask_actual = np.array(nonull(journals_rating.dateCreated[mask_wos])).astype(int)==2017\n",
    "id_journal = np.array(nonull(journals_rating.idNum[mask_wos])).astype(int)[mask_actual]\n",
    "\n",
    "year_found = np.array(journals.startYear[id_journal]).astype(float)\n",
    "IFWoS = np.array(nonull(journals_rating.ratingValue[mask_wos])).astype(float)[mask_actual]\n",
    "\n",
    "plt.figure( figsize = (10,6) )\n",
    "plt.scatter( year_found, IFWoS, alpha=0.5 )"
   ]
  },
  {
   "cell_type": "code",
   "execution_count": 390,
   "metadata": {},
   "outputs": [
    {
     "data": {
      "text/plain": [
       "'http://scigraph.springernature.com/ontologies/product-market-codes/H53003'"
      ]
     },
     "execution_count": 390,
     "metadata": {},
     "output_type": "execute_result"
    }
   ],
   "source": [
    "journals_about['categoryid'][0]"
   ]
  },
  {
   "cell_type": "code",
   "execution_count": 365,
   "metadata": {},
   "outputs": [
    {
     "data": {
      "text/plain": [
       "array(['Psychiatry', 'Community and Environmental Psychology',\n",
       "       'Neurosciences', 'Neurology', 'Neurosurgery', 'Public Health',\n",
       "       'Clinical Psychology', 'Personality and Social Psychology',\n",
       "       'Health Psychology', 'Health Promotion and Disease Prevention',\n",
       "       'Health Informatics', 'Health Administration',\n",
       "       'Sociology, general', 'Medicine/Public Health, general',\n",
       "       'Psychotherapy', 'Psychopharmacology', 'Forensic Psychiatry',\n",
       "       'Human Physiology', 'Internal Medicine', 'Psychology, general',\n",
       "       'Rehabilitation', 'Epidemiology', 'Behavioral Therapy',\n",
       "       'Education, general', 'Cross Cultural Psychology',\n",
       "       'Psychosomatic Medicine', 'Behavioral Sciences', 'Pediatrics',\n",
       "       'Child and Adolescent Psychiatry', 'Neuroradiology',\n",
       "       'Neuropsychology', 'Law and Psychology',\n",
       "       'Criminology and Criminal Justice, general', 'Human Genetics',\n",
       "       'Psychoanalysis', 'Pharmacotherapy', 'Biological Psychology',\n",
       "       'Neurobiology', 'Animal Models',\n",
       "       'General Practice / Family Medicine', 'Otorhinolaryngology',\n",
       "       'Cardiology', 'Cognitive Psychology',\n",
       "       'Psychotherapy and Counseling', 'Social Work',\n",
       "       'Child and School Psychology', 'Pharmacology/Toxicology',\n",
       "       'Medical Education', 'Anthropology', 'Sexual Behavior',\n",
       "       'Economics, general', 'Pathology', 'Infectious Diseases',\n",
       "       'Gynecology', 'Social Sciences, general',\n",
       "       'Developmental Psychology', 'Educational Psychology',\n",
       "       'Social Work and Community Development',\n",
       "       'Obstetrics/Perinatology/Midwifery', 'Metabolic Diseases',\n",
       "       'Oncology'], dtype=object)"
      ]
     },
     "execution_count": 365,
     "metadata": {},
     "output_type": "execute_result"
    }
   ],
   "source": [
    "mask_tmp = journals_about['categoryname']=='Psychiatry'\n",
    "id_tmp = np.array(journals_about['idNum'][mask_tmp].astype(int))\n",
    "mask_field = np.in1d( np.array(journals_about['idNum'].astype(int)), id_tmp )\n",
    "journals_about['categoryname'][mask_field].drop_duplicates().values\n"
   ]
  },
  {
   "cell_type": "code",
   "execution_count": 368,
   "metadata": {},
   "outputs": [],
   "source": [
    "np.vectorize?"
   ]
  },
  {
   "cell_type": "code",
   "execution_count": null,
   "metadata": {},
   "outputs": [],
   "source": []
  }
 ],
 "metadata": {
  "kernelspec": {
   "display_name": "Python 3",
   "language": "python",
   "name": "python3"
  },
  "language_info": {
   "codemirror_mode": {
    "name": "ipython",
    "version": 3
   },
   "file_extension": ".py",
   "mimetype": "text/x-python",
   "name": "python",
   "nbconvert_exporter": "python",
   "pygments_lexer": "ipython3",
   "version": "3.7.3"
  }
 },
 "nbformat": 4,
 "nbformat_minor": 2
}
